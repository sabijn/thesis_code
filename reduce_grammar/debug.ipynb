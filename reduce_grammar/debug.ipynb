{
 "cells": [
  {
   "cell_type": "code",
   "execution_count": 2,
   "metadata": {},
   "outputs": [],
   "source": [
    "from nltk import PCFG as nltk_PCFG\n",
    "from nltk.grammar import Nonterminal\n",
    "from collections import defaultdict"
   ]
  },
  {
   "cell_type": "code",
   "execution_count": 3,
   "metadata": {},
   "outputs": [],
   "source": [
    "all_grammars = {}\n",
    "for top_k in [0.2, 0.3, 0.4, 0.5, 0.6, 0.7, 0.8, 0.9]:\n",
    "    # with open(f'grammars/nltk/normal/subset_pcfg_{top_k}.txt') as f:\n",
    "    #     raw_grammar = f.read()\n",
    "    with open(f'grammars/nltk/normal/subset_pcfg_{top_k}.txt') as f:\n",
    "        raw_grammar = f.read()\n",
    "    grammar = nltk_PCFG.fromstring(raw_grammar)\n",
    "\n",
    "    grammar._start = Nonterminal('S_0')\n",
    "\n",
    "    grammar._lhs_prob_index = {}\n",
    "    for lhs in grammar._lhs_index.keys():\n",
    "        lhs_probs = [prod.prob() for prod in grammar.productions(lhs=lhs)]\n",
    "        grammar._lhs_prob_index[lhs] = lhs_probs\n",
    "    all_grammars[top_k] = grammar"
   ]
  },
  {
   "cell_type": "code",
   "execution_count": 4,
   "metadata": {},
   "outputs": [],
   "source": [
    "all_rhs = defaultdict(set)\n",
    "all_lhs = defaultdict(set)\n",
    "for k, grammar in all_grammars.items():\n",
    "    for prod in grammar.productions():\n",
    "        all_lhs[k].add(prod.lhs())\n",
    "        if isinstance(prod.rhs()[0], Nonterminal):\n",
    "            for rhs in prod.rhs():\n",
    "                all_rhs[k].add(rhs)"
   ]
  },
  {
   "cell_type": "code",
   "execution_count": 5,
   "metadata": {},
   "outputs": [
    {
     "name": "stdout",
     "output_type": "stream",
     "text": [
      "Grammar 0.2\n",
      "Amount of lhs productions 114\n",
      "Amount of rhs productions 113\n",
      "Amounf of non terminals not on rhs 0\n",
      "Missing lhs nonterminals set()\n",
      "Grammar 0.3\n",
      "Amount of lhs productions 157\n",
      "Amount of rhs productions 156\n",
      "Amounf of non terminals not on rhs 0\n",
      "Missing lhs nonterminals set()\n",
      "Grammar 0.4\n",
      "Amount of lhs productions 299\n",
      "Amount of rhs productions 298\n",
      "Amounf of non terminals not on rhs 0\n",
      "Missing lhs nonterminals set()\n",
      "Grammar 0.5\n",
      "Amount of lhs productions 420\n",
      "Amount of rhs productions 419\n",
      "Amounf of non terminals not on rhs 0\n",
      "Missing lhs nonterminals set()\n",
      "Grammar 0.6\n",
      "Amount of lhs productions 513\n",
      "Amount of rhs productions 512\n",
      "Amounf of non terminals not on rhs 0\n",
      "Missing lhs nonterminals set()\n",
      "Grammar 0.7\n",
      "Amount of lhs productions 660\n",
      "Amount of rhs productions 659\n",
      "Amounf of non terminals not on rhs 0\n",
      "Missing lhs nonterminals set()\n",
      "Grammar 0.8\n",
      "Amount of lhs productions 699\n",
      "Amount of rhs productions 698\n",
      "Amounf of non terminals not on rhs 0\n",
      "Missing lhs nonterminals set()\n",
      "Grammar 0.9\n",
      "Amount of lhs productions 691\n",
      "Amount of rhs productions 690\n",
      "Amounf of non terminals not on rhs 2\n",
      "Missing lhs nonterminals {PRN_4, ATNP_12}\n"
     ]
    }
   ],
   "source": [
    "for k, grammar in all_grammars.items():\n",
    "    print(f'Grammar {k}')\n",
    "    diff = all_rhs[k] - all_lhs[k]\n",
    "    diff_non_problematic = all_lhs[k] - all_rhs[k]\n",
    "    print(f'Amount of lhs productions {len(all_lhs[k])}')\n",
    "    print(f'Amount of rhs productions {len(all_rhs[k])}')\n",
    "    print(f'Amounf of non terminals not on rhs {len(diff)}')\n",
    "    print(f'Missing lhs nonterminals {diff}')\n",
    "    # print(f'Missing rhs nonterminals {diff_non_problematic}')"
   ]
  },
  {
   "cell_type": "code",
   "execution_count": 7,
   "metadata": {},
   "outputs": [
    {
     "data": {
      "text/plain": [
       "<Grammar with 237195 productions>"
      ]
     },
     "execution_count": 7,
     "metadata": {},
     "output_type": "execute_result"
    }
   ],
   "source": [
    "all_grammars[0.9].productions()"
   ]
  },
  {
   "cell_type": "code",
   "execution_count": null,
   "metadata": {},
   "outputs": [],
   "source": []
  }
 ],
 "metadata": {
  "kernelspec": {
   "display_name": ".venv",
   "language": "python",
   "name": "python3"
  },
  "language_info": {
   "codemirror_mode": {
    "name": "ipython",
    "version": 3
   },
   "file_extension": ".py",
   "mimetype": "text/x-python",
   "name": "python",
   "nbconvert_exporter": "python",
   "pygments_lexer": "ipython3",
   "version": "3.9.18"
  }
 },
 "nbformat": 4,
 "nbformat_minor": 2
}
