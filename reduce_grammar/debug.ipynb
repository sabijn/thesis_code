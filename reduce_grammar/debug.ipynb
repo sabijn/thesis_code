{
 "cells": [
  {
   "cell_type": "code",
   "execution_count": 3,
   "metadata": {},
   "outputs": [],
   "source": [
    "from nltk import PCFG as nltk_PCFG\n",
    "from nltk.grammar import Nonterminal, Terminal\n",
    "from collections import defaultdict"
   ]
  },
  {
   "cell_type": "code",
   "execution_count": 22,
   "metadata": {},
   "outputs": [],
   "source": [
    "all_grammars = {}\n",
    "for top_k in [0.2, 0.3, 0.4, 0.5, 0.6, 0.7, 0.8, 0.9]:\n",
    "    # with open(f'grammars/nltk/normal/subset_pcfg_{top_k}.txt') as f:\n",
    "    #     raw_grammar = f.read()\n",
    "    with open(f'grammars/nltk/lexical/subset_pcfg_{top_k}_lexical.txt') as f:\n",
    "        raw_grammar = f.read()\n",
    "    grammar = nltk_PCFG.fromstring(raw_grammar)\n",
    "\n",
    "    grammar._start = Nonterminal('S_0')\n",
    "\n",
    "    grammar._lhs_prob_index = {}\n",
    "    for lhs in grammar._lhs_index.keys():\n",
    "        lhs_probs = [prod.prob() for prod in grammar.productions(lhs=lhs)]\n",
    "        grammar._lhs_prob_index[lhs] = lhs_probs\n",
    "    all_grammars[top_k] = grammar"
   ]
  },
  {
   "cell_type": "code",
   "execution_count": 23,
   "metadata": {},
   "outputs": [],
   "source": [
    "all_rhs = defaultdict(set)\n",
    "all_lhs = defaultdict(set)\n",
    "for k, grammar in all_grammars.items():\n",
    "    for prod in grammar.productions():\n",
    "        all_lhs[k].add(prod.lhs())\n",
    "        if isinstance(prod.rhs()[0], Nonterminal):\n",
    "            for rhs in prod.rhs():\n",
    "                all_rhs[k].add(rhs)"
   ]
  },
  {
   "cell_type": "code",
   "execution_count": 27,
   "metadata": {},
   "outputs": [
    {
     "name": "stdout",
     "output_type": "stream",
     "text": [
      "Grammar 0.2\n",
      "Amount of lhs productions 114\n",
      "Amount of rhs productions 113\n",
      "Amounf of non terminals not on rhs 0\n",
      "Missing lhs nonterminals set()\n",
      "Grammar 0.3\n",
      "Amount of lhs productions 155\n",
      "Amount of rhs productions 153\n",
      "Amounf of non terminals not on rhs 0\n",
      "Missing lhs nonterminals set()\n",
      "Grammar 0.4\n",
      "Amount of lhs productions 284\n",
      "Amount of rhs productions 280\n",
      "Amounf of non terminals not on rhs 0\n",
      "Missing lhs nonterminals set()\n",
      "Grammar 0.5\n",
      "Amount of lhs productions 392\n",
      "Amount of rhs productions 388\n",
      "Amounf of non terminals not on rhs 0\n",
      "Missing lhs nonterminals set()\n",
      "Grammar 0.6\n",
      "Amount of lhs productions 492\n",
      "Amount of rhs productions 488\n",
      "Amounf of non terminals not on rhs 0\n",
      "Missing lhs nonterminals set()\n",
      "Grammar 0.7\n",
      "Amount of lhs productions 622\n",
      "Amount of rhs productions 617\n",
      "Amounf of non terminals not on rhs 0\n",
      "Missing lhs nonterminals set()\n",
      "Grammar 0.8\n",
      "Amount of lhs productions 672\n",
      "Amount of rhs productions 673\n",
      "Amounf of non terminals not on rhs 3\n",
      "Missing lhs nonterminals {PRN_4, ATVP_22, ATPRN_6}\n",
      "Grammar 0.9\n",
      "Amount of lhs productions 691\n",
      "Amount of rhs productions 690\n",
      "Amounf of non terminals not on rhs 2\n",
      "Missing lhs nonterminals {PRN_4, ATNP_12}\n"
     ]
    }
   ],
   "source": [
    "for k, grammar in all_grammars.items():\n",
    "    print(f'Grammar {k}')\n",
    "    diff = all_rhs[k] - all_lhs[k]\n",
    "    diff_non_problematic = all_lhs[k] - all_rhs[k]\n",
    "    print(f'Amount of lhs productions {len(all_lhs[k])}')\n",
    "    print(f'Amount of rhs productions {len(all_rhs[k])}')\n",
    "    print(f'Amounf of non terminals not on rhs {len(diff)}')\n",
    "    print(f'Missing lhs nonterminals {diff}')\n",
    "    # print(f'Missing rhs nonterminals {diff_non_problematic}')"
   ]
  },
  {
   "cell_type": "code",
   "execution_count": null,
   "metadata": {},
   "outputs": [],
   "source": []
  }
 ],
 "metadata": {
  "kernelspec": {
   "display_name": ".venv",
   "language": "python",
   "name": "python3"
  },
  "language_info": {
   "codemirror_mode": {
    "name": "ipython",
    "version": 3
   },
   "file_extension": ".py",
   "mimetype": "text/x-python",
   "name": "python",
   "nbconvert_exporter": "python",
   "pygments_lexer": "ipython3",
   "version": "3.9.18"
  }
 },
 "nbformat": 4,
 "nbformat_minor": 2
}
