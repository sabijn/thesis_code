{
 "cells": [
  {
   "cell_type": "markdown",
   "metadata": {},
   "source": [
    "# Visualization reducing grammar"
   ]
  },
  {
   "cell_type": "markdown",
   "metadata": {},
   "source": [
    "## Inspecting the corpora"
   ]
  },
  {
   "cell_type": "markdown",
   "metadata": {},
   "source": [
    "1. Sentence length\n",
    "2. Vocabsize\n",
    "3. Amount of terminals\n",
    "4. Amount of non terminals\n",
    "5. Distribution (Zipf)\n",
    "6. Train/test/dev"
   ]
  },
  {
   "cell_type": "markdown",
   "metadata": {},
   "source": [
    "#### Per top k"
   ]
  },
  {
   "cell_type": "code",
   "execution_count": 2,
   "metadata": {},
   "outputs": [],
   "source": [
    "# open txt file\n",
    "version = 'normal'\n",
    "top_k = '0.2'\n",
    "with open(f'corpora/{version}/train_sent_{top_k}.txt', 'r') as file:\n",
    "    data = [item.strip('\\n')"
   ]
  },
  {
   "cell_type": "code",
   "execution_count": 3,
   "metadata": {},
   "outputs": [
    {
     "data": {
      "text/plain": [
       "'I grabbed his head and felt a long look on the window .I saw a great breath on the water , taking it on the ground .I took a deep place into the road , looking on the door .`` I <apostrophe>ll have been made , <apostrophe><apostrophe> he said .I grabbed his face and smiled .`` I do n<apostrophe>t want to do him , <apostrophe><apostrophe> he said .I said and shook his face .I opened his hand and smiled .I went up on the room , taking it on the ground .`` I <apostrophe>ll have given up in the side , <apostrophe><apostrophe> he said .I opened his face , looking into the door .I opened his head and opened his face .I shook his face , holding it on the table .`` I <apostrophe>ll be gone , <apostrophe><apostrophe> he said .I took a big man into the road and opened his head .I said and took a long thing into the water .I took his hand on the ground , coming on the door .I grabbed his head , making his face into the floor .I said and shook his head .`` I <apostrophe>ll have had a bit of light in silence , <apostrophe><apostrophe> he said .`` I <apostrophe>ll see a little look , <apostrophe><apostrophe> he said .I looked up into the room and nodded .I nodded and gave his head into the air .I grabbed his hand and said .I pulled his hand on the door and said .I turned and opened his hand .`` I <apostrophe>ll have been taken , <apostrophe><apostrophe> he said .`` I <apostrophe>ll have been done , <apostrophe><apostrophe> he said .I said and took a deep man into the door .I made his face into the ground , leaving it on the room .`` I <apostrophe>ll take a good thing , <apostrophe><apostrophe> he said .I looked up into the table and took his head on the road .`` I <apostrophe>ll see a small man , <apostrophe><apostrophe> he said .I looked into the water , putting his face on the room .I went up on the window and shook his head .I stood on the floor , looking into the floor .`` I do n<apostrophe>t want to do , <apostrophe><apostrophe> he said .`` I <apostrophe>ll do it if he said , <apostrophe><apostrophe> he said .`` I <apostrophe>ll have seen , <apostrophe><apostrophe> he said .`` I <apostrophe>ll do it if he thought , <apostrophe><apostrophe> he said .I looked on the wall , running on the door .I opened his face and stopped .I smiled and took a little look into the window .`` I <apostrophe>ll have been gone , <apostrophe><apostrophe> he said .I took his hand and shook his head .I took a new voice on the wall , putting his head on the door .I looked up into the wall and saw a small person into the room .I said and pulled his face into the air .I said and took his head .`` I <apostrophe>ll have found it , <apostrophe><apostrophe> he said .I came up on the door , putting his head on the door .I nodded and looked up into the wall .I looked into the table , pulling his hand on the ground .I stared into the floor , sitting into the room .I went up on the room and shook his head .I smiled and looked up on the wall .`` I <apostrophe>ll do it if he know , <apostrophe><apostrophe> he said .I looked up on the window , coming on the door .`` I <apostrophe>ll take a little man , <apostrophe><apostrophe> he said .I looked on the road , putting his hand on the table .I opened his head and took a deep person on the air .I raised his hand , pulling it into the ground .I smiled and gave his head into the room .`` I <apostrophe>ll have gone , <apostrophe><apostrophe> he said .`` I <apostrophe>ll be told , <apostrophe><apostrophe> he said .I took a long grin into the road , watching his head into the window .`` I <apostrophe>ll be done , <apostrophe><apostrophe> he said .`` I do n<apostrophe>t know , <apostrophe><apostrophe> he said .I went up on the table , bringing his head on the room .I grabbed his head and smiled .`` I do n<apostrophe>t want to go , <apostrophe><apostrophe> he said .I took a long man into the window and stopped .I walked on the ground , giving it on the ground .I stood on the water , pulling it on the ground .`` I <apostrophe>ll have seen him , <apostrophe><apostrophe> he said .I looked on the water , putting his head into the air .I shook his hand and took his hand on the wall .I turned and shook his face .I shook his hand and nodded .I opened his head and looked up into the room .'"
      ]
     },
     "execution_count": 3,
     "metadata": {},
     "output_type": "execute_result"
    }
   ],
   "source": [
    "data"
   ]
  },
  {
   "cell_type": "code",
   "execution_count": null,
   "metadata": {},
   "outputs": [],
   "source": []
  }
 ],
 "metadata": {
  "kernelspec": {
   "display_name": ".venv",
   "language": "python",
   "name": "python3"
  },
  "language_info": {
   "codemirror_mode": {
    "name": "ipython",
    "version": 3
   },
   "file_extension": ".py",
   "mimetype": "text/x-python",
   "name": "python",
   "nbconvert_exporter": "python",
   "pygments_lexer": "ipython3",
   "version": "3.9.18"
  }
 },
 "nbformat": 4,
 "nbformat_minor": 2
}
